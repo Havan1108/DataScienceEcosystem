{
 "cells": [
  {
   "cell_type": "markdown",
   "id": "5b3063ee-8f58-4cd5-8c9e-5adceed4962e",
   "metadata": {},
   "source": [
    "# Data Science Tools and Ecosystem"
   ]
  },
  {
   "cell_type": "markdown",
   "id": "56075f7e-cf53-43a6-a813-89bf5aba4821",
   "metadata": {},
   "source": [
    "In this notebook, Data Science Tools and Ecosystem are summarized."
   ]
  },
  {
   "cell_type": "markdown",
   "id": "b85c9ab7-c02c-4da2-8003-28c2d0502107",
   "metadata": {},
   "source": [
    "**Objectives:**\n",
    "- List popular languages for Data Science\n",
    "- List commonly used Data Science libraries\n",
    "- List Data Science Tools\n",
    "- Provide examples for evaluating arithmetic expressions in Python"
   ]
  },
  {
   "cell_type": "markdown",
   "id": "281602b3-416d-4d98-a35c-ecec684e66ac",
   "metadata": {},
   "source": [
    "Some of the popular languages that Data Scientists use are:\n",
    "1. Python\n",
    "2. R language\n",
    "3. SQL"
   ]
  },
  {
   "cell_type": "markdown",
   "id": "32f9690d-4f16-4589-b89a-a968d5a570aa",
   "metadata": {},
   "source": [
    "Some of the commonly used libraries used by Data Scientists include:\n",
    "1. Pandas\n",
    "2. NumPy\n",
    "3. Matplotlib"
   ]
  },
  {
   "cell_type": "markdown",
   "id": "9f862fe1-ca98-499b-9626-0c14702c150e",
   "metadata": {},
   "source": [
    "|Data Science Tools|\n",
    "|------------------|\n",
    "|Jupyter lab|\n",
    "|Apache Zeppelin|\n",
    "|RStudio|"
   ]
  },
  {
   "cell_type": "markdown",
   "id": "6de10106-326d-49a9-b167-fb187f3fbde4",
   "metadata": {},
   "source": [
    "### Below are a few examples of evaluating arithmetic expressions in Python"
   ]
  },
  {
   "cell_type": "code",
   "execution_count": 1,
   "id": "7ebbc2ed-1e99-4c5a-89c1-e88613d9f1bb",
   "metadata": {
    "tags": []
   },
   "outputs": [
    {
     "data": {
      "text/plain": [
       "17"
      ]
     },
     "execution_count": 1,
     "metadata": {},
     "output_type": "execute_result"
    }
   ],
   "source": [
    "# This is a simple aritmetic expression to multiply then add integers\n",
    "(3*4)+5"
   ]
  },
  {
   "cell_type": "code",
   "execution_count": 2,
   "id": "af4ed89f-da97-454b-b757-ecd045b40ae6",
   "metadata": {
    "tags": []
   },
   "outputs": [
    {
     "data": {
      "text/plain": [
       "3.3333333333333335"
      ]
     },
     "execution_count": 2,
     "metadata": {},
     "output_type": "execute_result"
    }
   ],
   "source": [
    "# This will convert 200 minutes to hours by dividing by 60\n",
    "200/60"
   ]
  },
  {
   "cell_type": "markdown",
   "id": "f8a24f76-463a-4a0b-ba5f-82adc7768ba4",
   "metadata": {},
   "source": [
    "## Author\n",
    "Havandren Nadasan"
   ]
  },
  {
   "cell_type": "code",
   "execution_count": null,
   "id": "af35d503-68aa-4883-8ed8-3c8c23f13823",
   "metadata": {},
   "outputs": [],
   "source": []
  }
 ],
 "metadata": {
  "kernelspec": {
   "display_name": "Python",
   "language": "python",
   "name": "conda-env-python-py"
  },
  "language_info": {
   "codemirror_mode": {
    "name": "ipython",
    "version": 3
   },
   "file_extension": ".py",
   "mimetype": "text/x-python",
   "name": "python",
   "nbconvert_exporter": "python",
   "pygments_lexer": "ipython3",
   "version": "3.7.12"
  }
 },
 "nbformat": 4,
 "nbformat_minor": 5
}
